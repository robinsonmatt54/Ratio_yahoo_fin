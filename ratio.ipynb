{
 "metadata": {
  "language_info": {
   "codemirror_mode": {
    "name": "ipython",
    "version": 3
   },
   "file_extension": ".py",
   "mimetype": "text/x-python",
   "name": "python",
   "nbconvert_exporter": "python",
   "pygments_lexer": "ipython3",
   "version": "3.9.2-final"
  },
  "orig_nbformat": 2,
  "kernelspec": {
   "name": "python3",
   "display_name": "Python 3.9.2 64-bit",
   "metadata": {
    "interpreter": {
     "hash": "ff573855e547c90906726332dac2844ecd2baeb7eef314cb887882f274b00b45"
    }
   }
  }
 },
 "nbformat": 4,
 "nbformat_minor": 2,
 "cells": [
  {
   "source": [
    "#Libraries\n",
    "import numpy as np\n",
    "import pandas as pd\n",
    "import matplotlib.pyplot as plt \n",
    "from yahoofinancials import YahooFinancials\n",
    "from yahooquery import Ticker"
   ],
   "cell_type": "code",
   "metadata": {},
   "execution_count": 23,
   "outputs": []
  },
  {
   "cell_type": "code",
   "execution_count": 12,
   "metadata": {},
   "outputs": [
    {
     "output_type": "stream",
     "name": "stdout",
     "text": [
      "Ratios presented\nLeverage\n :Debt to Assets\n :Debt to Equity\n :Asset to Equity\nProfitability\n :Gross Profit Margin\n :Return on Equity\n :Return on Assets\n :Operating Profit Margin\nCoverage\n :Interest Coverage\n :Cash Coverage\nLiquidity\n :Current Ratio\n :Cash Ratio\n :Working Capital\n"
     ]
    }
   ],
   "source": [
    "print('Ratios presented')\n",
    "print('Leverage')\n",
    "print(' :Debt to Assets')\n",
    "print(' :Debt to Equity')\n",
    "print(' :Asset to Equity')\n",
    "print('Profitability')\n",
    "print(' :Gross Profit Margin')\n",
    "print(' :Return on Equity')\n",
    "print(' :Return on Assets')\n",
    "print(' :Operating Profit Margin')\n",
    "print('Coverage')\n",
    "print(' :Interest Coverage')\n",
    "print(' :Cash Coverage')\n",
    "print('Liquidity')\n",
    "print(' :Current Ratio')\n",
    "print(' :Cash Ratio')\n",
    "print(' :Working Capital')"
   ]
  },
  {
   "cell_type": "code",
   "execution_count": 29,
   "metadata": {},
   "outputs": [],
   "source": [
    "#import tickers for comparision \n",
    "#tickers = ['AAPL']\n",
    "#yahoo_financials = YahooFinancials(tickers)\n",
    "#tickers_statement =yahoo_financials.get_financial_stmts('annual','income')\n",
    "#tickers_statement"
   ]
  },
  {
   "cell_type": "code",
   "execution_count": 30,
   "metadata": {},
   "outputs": [],
   "source": [
    "#print('Key Statistics for Tickers')\n",
    "#yahoo_financials =YahooFinancials(tickers)\n",
    "#print(yahoo_financials.get_key_statistics_data())"
   ]
  },
  {
   "cell_type": "code",
   "execution_count": 31,
   "metadata": {},
   "outputs": [],
   "source": [
    "#url - 'https://finance.yahoo.com/quote/AAPL/profile?p=AAPL'\n",
    "#company = \"AAPL\"\n",
    "#F-string allows variable to be passed through\n",
    "#profile = pd.read_html(f'https://finance.yahoo.com/quote/{company}/profile?p={company}')\n",
    "#profile[0]"
   ]
  },
  {
   "cell_type": "code",
   "execution_count": 32,
   "metadata": {},
   "outputs": [],
   "source": [
    "#statistics = pd.read_html(f'https://finance.yahoo.com/quote/{company}/key-statistics?p={company}')\n",
    "#print(statistics)"
   ]
  },
  {
   "cell_type": "code",
   "execution_count": 33,
   "metadata": {},
   "outputs": [],
   "source": [
    "#valuation_Measures = statistics[0]\n",
    "#stock_Price_History = statistics[1]\n",
    "#share_statistics = statistics[2]\n",
    "#dividend_Info = statistics[3]\n",
    "#profitability_Info = statistics[4]\n",
    "#management_Effectiveness = statistics[6]\n",
    "#income_statement = statistics[7]\n",
    "#balance_Sheet = statistics[8]\n",
    "#cash_Flow = statistics[9]\n",
    "\n",
    "#print(valuation_Measures)"
   ]
  },
  {
   "cell_type": "code",
   "execution_count": 14,
   "metadata": {},
   "outputs": [
    {
     "output_type": "stream",
     "name": "stdout",
     "text": [
      "asOfDate\nperiodType\ncurrencyCode\nAccountsPayable\nAccountsReceivable\nAccumulatedDepreciation\nAllowanceForDoubtfulAccountsReceivable\nAvailableForSaleSecurities\nCapitalStock\nCashAndCashEquivalents\nCashCashEquivalentsAndShortTermInvestments\nCashEquivalents\nCashFinancial\nCommercialPaper\nCommonStock\nCommonStockEquity\nCurrentAccruedExpenses\nCurrentAssets\nCurrentDebt\nCurrentDebtAndCapitalLeaseObligation\nCurrentDeferredLiabilities\nCurrentDeferredRevenue\nCurrentLiabilities\nGainsLossesNotAffectingRetainedEarnings\nGoodwill\nGoodwillAndOtherIntangibleAssets\nGrossAccountsReceivable\nGrossPPE\nInventory\nInvestedCapital\nInvestmentinFinancialAssets\nInvestmentsAndAdvances\nLandAndImprovements\nLeases\nLongTermDebt\nLongTermDebtAndCapitalLeaseObligation\nMachineryFurnitureEquipment\nNetDebt\nNetPPE\nNetTangibleAssets\nNonCurrentDeferredLiabilities\nNonCurrentDeferredRevenue\nNonCurrentDeferredTaxesLiabilities\nOrdinarySharesNumber\nOtherCurrentAssets\nOtherCurrentBorrowings\nOtherCurrentLiabilities\nOtherIntangibleAssets\nOtherNonCurrentAssets\nOtherNonCurrentLiabilities\nOtherReceivables\nOtherShortTermInvestments\nPayables\nPayablesAndAccruedExpenses\nProperties\nReceivables\nRetainedEarnings\nShareIssued\nStockholdersEquity\nTangibleBookValue\nTotalAssets\nTotalCapitalization\nTotalDebt\nTotalEquityGrossMinorityInterest\nTotalLiabilitiesNetMinorityInterest\nTotalNonCurrentAssets\nTotalNonCurrentLiabilitiesNetMinorityInterest\nTradeandOtherPayablesNonCurrent\nWorkingCapital\n"
     ]
    }
   ],
   "source": [
    "#Ticker to analyze\n",
    "ticker = Ticker('aapl')\n",
    "#get balance sheet for ticker\n",
    "ticker_Bal = ticker.balance_sheet()\n",
    "#Get cash flow for ticker\n",
    "ticker_cash = ticker.cash_flow()\n",
    "#Get income statement for ticker\n",
    "ticker_income = ticker.income_statement()\n",
    "#Print the col(series) for the balance sheet\n",
    "for col in ticker_Bal.columns:\n",
    "     print(col)"
   ]
  },
  {
   "cell_type": "code",
   "execution_count": 5,
   "metadata": {},
   "outputs": [
    {
     "output_type": "stream",
     "name": "stdout",
     "text": [
      "asOfDate\nperiodType\ncurrencyCode\nBeginningCashPosition\nCapitalExpenditure\nCashDividendsPaid\nCashFlowFromContinuingFinancingActivities\nCashFlowFromContinuingInvestingActivities\nCashFlowFromContinuingOperatingActivities\nChangeInAccountPayable\nChangeInCashSupplementalAsReported\nChangeInInventory\nChangeInOtherCurrentAssets\nChangeInOtherCurrentLiabilities\nChangeInOtherWorkingCapital\nChangeInPayable\nChangeInPayablesAndAccruedExpense\nChangeInReceivables\nChangeInWorkingCapital\nChangesInAccountReceivables\nChangesInCash\nCommonStockDividendPaid\nCommonStockIssuance\nCommonStockPayments\nDeferredIncomeTax\nDeferredTax\nDepreciationAmortizationDepletion\nDepreciationAndAmortization\nEndCashPosition\nFinancingCashFlow\nFreeCashFlow\nIncomeTaxPaidSupplementalData\nInterestPaidSupplementalData\nInvestingCashFlow\nIssuanceOfCapitalStock\nIssuanceOfDebt\nLongTermDebtIssuance\nLongTermDebtPayments\nNetBusinessPurchaseAndSale\nNetCommonStockIssuance\nNetIncome\nNetIncomeFromContinuingOperations\nNetIntangiblesPurchaseAndSale\nNetInvestmentPurchaseAndSale\nNetIssuancePaymentsOfDebt\nNetLongTermDebtIssuance\nNetOtherFinancingCharges\nNetOtherInvestingChanges\nNetPPEPurchaseAndSale\nNetShortTermDebtIssuance\nOperatingCashFlow\nOtherNonCashItems\nPurchaseOfBusiness\nPurchaseOfIntangibles\nPurchaseOfInvestment\nPurchaseOfPPE\nRepaymentOfDebt\nRepurchaseOfCapitalStock\nSaleOfInvestment\nShortTermDebtPayments\nStockBasedCompensation\n"
     ]
    }
   ],
   "source": [
    "#Print the col(series) for the cash flow\n",
    "for col in ticker_cash.columns:\n",
    "     print(col)"
   ]
  },
  {
   "cell_type": "code",
   "execution_count": 4,
   "metadata": {},
   "outputs": [
    {
     "output_type": "stream",
     "name": "stdout",
     "text": [
      "asOfDate\nperiodType\ncurrencyCode\nBasicAverageShares\nBasicEPS\nCostOfRevenue\nDilutedAverageShares\nDilutedEPS\nDilutedNIAvailtoComStockholders\nEBIT\nEBITDA\nGrossProfit\nInterestExpense\nInterestExpenseNonOperating\nInterestIncome\nInterestIncomeNonOperating\nNetIncome\nNetIncomeCommonStockholders\nNetIncomeContinuousOperations\nNetIncomeFromContinuingAndDiscontinuedOperation\nNetIncomeFromContinuingOperationNetMinorityInterest\nNetIncomeIncludingNoncontrollingInterests\nNetInterestIncome\nNetNonOperatingInterestIncomeExpense\nNormalizedEBITDA\nNormalizedIncome\nOperatingExpense\nOperatingIncome\nOperatingRevenue\nOtherIncomeExpense\nOtherNonOperatingIncomeExpenses\nPretaxIncome\nReconciledCostOfRevenue\nReconciledDepreciation\nResearchAndDevelopment\nSellingGeneralAndAdministration\nTaxEffectOfUnusualItems\nTaxProvision\nTaxRateForCalcs\nTotalExpenses\nTotalOperatingIncomeAsReported\nTotalRevenue\n"
     ]
    }
   ],
   "source": [
    "#Print the col(series) for the income statement\n",
    "for col in ticker_income.columns:\n",
    "     print(col)"
   ]
  },
  {
   "cell_type": "code",
   "execution_count": 9,
   "metadata": {},
   "outputs": [],
   "source": [
    "#Create a DF of the financial statements\n",
    "df = [ticker_Bal,ticker_cash,ticker_income]\n",
    "#Concatenate the DF together easier for pulling series for the Ratios\n",
    "df_joined = pd.concat(df)"
   ]
  },
  {
   "cell_type": "code",
   "execution_count": 10,
   "metadata": {},
   "outputs": [
    {
     "output_type": "stream",
     "name": "stdout",
     "text": [
      "asOfDate\nperiodType\ncurrencyCode\nAccountsPayable\nAccountsReceivable\nAccumulatedDepreciation\nAllowanceForDoubtfulAccountsReceivable\nAvailableForSaleSecurities\nCapitalStock\nCashAndCashEquivalents\nCashCashEquivalentsAndShortTermInvestments\nCashEquivalents\nCashFinancial\nCommercialPaper\nCommonStock\nCommonStockEquity\nCurrentAccruedExpenses\nCurrentAssets\nCurrentDebt\nCurrentDebtAndCapitalLeaseObligation\nCurrentDeferredLiabilities\nCurrentDeferredRevenue\nCurrentLiabilities\nGainsLossesNotAffectingRetainedEarnings\nGoodwill\nGoodwillAndOtherIntangibleAssets\nGrossAccountsReceivable\nGrossPPE\nInventory\nInvestedCapital\nInvestmentinFinancialAssets\nInvestmentsAndAdvances\nLandAndImprovements\nLeases\nLongTermDebt\nLongTermDebtAndCapitalLeaseObligation\nMachineryFurnitureEquipment\nNetDebt\nNetPPE\nNetTangibleAssets\nNonCurrentDeferredLiabilities\nNonCurrentDeferredRevenue\nNonCurrentDeferredTaxesLiabilities\nOrdinarySharesNumber\nOtherCurrentAssets\nOtherCurrentBorrowings\nOtherCurrentLiabilities\nOtherIntangibleAssets\nOtherNonCurrentAssets\nOtherNonCurrentLiabilities\nOtherReceivables\nOtherShortTermInvestments\nPayables\nPayablesAndAccruedExpenses\nProperties\nReceivables\nRetainedEarnings\nShareIssued\nStockholdersEquity\nTangibleBookValue\nTotalAssets\nTotalCapitalization\nTotalDebt\nTotalEquityGrossMinorityInterest\nTotalLiabilitiesNetMinorityInterest\nTotalNonCurrentAssets\nTotalNonCurrentLiabilitiesNetMinorityInterest\nTradeandOtherPayablesNonCurrent\nWorkingCapital\nBeginningCashPosition\nCapitalExpenditure\nCashDividendsPaid\nCashFlowFromContinuingFinancingActivities\nCashFlowFromContinuingInvestingActivities\nCashFlowFromContinuingOperatingActivities\nChangeInAccountPayable\nChangeInCashSupplementalAsReported\nChangeInInventory\nChangeInOtherCurrentAssets\nChangeInOtherCurrentLiabilities\nChangeInOtherWorkingCapital\nChangeInPayable\nChangeInPayablesAndAccruedExpense\nChangeInReceivables\nChangeInWorkingCapital\nChangesInAccountReceivables\nChangesInCash\nCommonStockDividendPaid\nCommonStockIssuance\nCommonStockPayments\nDeferredIncomeTax\nDeferredTax\nDepreciationAmortizationDepletion\nDepreciationAndAmortization\nEndCashPosition\nFinancingCashFlow\nFreeCashFlow\nIncomeTaxPaidSupplementalData\nInterestPaidSupplementalData\nInvestingCashFlow\nIssuanceOfCapitalStock\nIssuanceOfDebt\nLongTermDebtIssuance\nLongTermDebtPayments\nNetBusinessPurchaseAndSale\nNetCommonStockIssuance\nNetIncome\nNetIncomeFromContinuingOperations\nNetIntangiblesPurchaseAndSale\nNetInvestmentPurchaseAndSale\nNetIssuancePaymentsOfDebt\nNetLongTermDebtIssuance\nNetOtherFinancingCharges\nNetOtherInvestingChanges\nNetPPEPurchaseAndSale\nNetShortTermDebtIssuance\nOperatingCashFlow\nOtherNonCashItems\nPurchaseOfBusiness\nPurchaseOfIntangibles\nPurchaseOfInvestment\nPurchaseOfPPE\nRepaymentOfDebt\nRepurchaseOfCapitalStock\nSaleOfInvestment\nShortTermDebtPayments\nStockBasedCompensation\nBasicAverageShares\nBasicEPS\nCostOfRevenue\nDilutedAverageShares\nDilutedEPS\nDilutedNIAvailtoComStockholders\nEBIT\nEBITDA\nGrossProfit\nInterestExpense\nInterestExpenseNonOperating\nInterestIncome\nInterestIncomeNonOperating\nNetIncomeCommonStockholders\nNetIncomeContinuousOperations\nNetIncomeFromContinuingAndDiscontinuedOperation\nNetIncomeFromContinuingOperationNetMinorityInterest\nNetIncomeIncludingNoncontrollingInterests\nNetInterestIncome\nNetNonOperatingInterestIncomeExpense\nNormalizedEBITDA\nNormalizedIncome\nOperatingExpense\nOperatingIncome\nOperatingRevenue\nOtherIncomeExpense\nOtherNonOperatingIncomeExpenses\nPretaxIncome\nReconciledCostOfRevenue\nReconciledDepreciation\nResearchAndDevelopment\nSellingGeneralAndAdministration\nTaxEffectOfUnusualItems\nTaxProvision\nTaxRateForCalcs\nTotalExpenses\nTotalOperatingIncomeAsReported\nTotalRevenue\n"
     ]
    }
   ],
   "source": [
    "#Print the serties of the joined DF\n",
    "for col in df_joined.columns:\n",
    "     print(col)"
   ]
  },
  {
   "cell_type": "code",
   "execution_count": 21,
   "metadata": {},
   "outputs": [
    {
     "output_type": "stream",
     "name": "stdout",
     "text": [
      "Leverage Ratios\n         asOfDate  Debt/Assets  Debt/Equity  Asset/Equity\nsymbol                                                   \naapl   2017-09-30    30.821781     0.862981      2.799906\naapl   2018-09-30    31.303028     1.068467      3.413301\naapl   2019-09-30    31.917841     1.194048      3.741004\naapl   2020-09-30    34.714469     1.720810      4.957039\n"
     ]
    }
   ],
   "source": [
    "print('Leverage Ratios')\n",
    "#It can be interpreted as the proportion of a company’s assets that are financed by debt as a percentage.\n",
    "df_joined['Debt/Assets'] = (df_joined['TotalDebt'] / df_joined['TotalAssets'])*100\n",
    "# indicates how much debt is used to carry a firm's assets.\n",
    "df_joined['Debt/Equity'] = (df_joined['TotalDebt'] / df_joined['StockholdersEquity']) #It shows the ratio between the total assets of the company to the amount on which equity holders have a claim.\n",
    "df_joined['Asset/Equity'] = (df_joined['TotalAssets'] / df_joined['StockholdersEquity'])\n",
    "print(df_joined[['asOfDate','Debt/Assets','Debt/Equity','Asset/Equity']].head(4))"
   ]
  },
  {
   "cell_type": "code",
   "execution_count": 44,
   "metadata": {},
   "outputs": [
    {
     "output_type": "stream",
     "name": "stdout",
     "text": [
      "Profitability\n         asOfDate  Gross_Margin        ROE  Operating_Margin\nsymbol                                                      \naapl   2017-09-30     38.469860  48.713796         28.971270\naapl   2018-09-30     38.343719  59.977684         28.668838\naapl   2019-09-30     37.817768  55.670607         26.641017\naapl   2020-06-30     38.187813  58.862378         26.059586\naapl   2020-09-30     38.233248  57.841777         25.486403\naapl   2020-12-31     38.780492  64.409691         26.340966\n"
     ]
    }
   ],
   "source": [
    "print('Profitability')\n",
    "#for the Series StockholdersEquity take the mean \n",
    "avg_share_equity = df_joined['StockholdersEquity'].mean()\n",
    "#Gross profit margin is a metric analysts use to assess a company's financial health by calculating the amount of money left over from product sales after subtracting the cost of goods sold (COGS) as a percentage\n",
    "df_joined['Gross_Margin'] = ((df_joined['TotalRevenue'] - df_joined['CostOfRevenue']) / df_joined['TotalRevenue'])*100\n",
    "#Return on equity (ROE) measures how the profitability of a corporation in relation to stockholders’ equity\n",
    "df_joined['ROE'] = (df_joined['NetIncome'] / avg_share_equity)*100\n",
    "#measures how much profit a company makes on a dollar of sales after paying for variable costs of production, such as wages and raw materials, but before paying interest or tax.\n",
    "df_joined['Operating_Margin'] = (df_joined['EBIT'] / df_joined['TotalRevenue'])*100\n",
    "#Print the results\n",
    "print(df_joined[['asOfDate','Gross_Margin','ROE','Operating_Margin']].tail(6))"
   ]
  },
  {
   "cell_type": "code",
   "execution_count": 50,
   "metadata": {},
   "outputs": [
    {
     "output_type": "stream",
     "name": "stdout",
     "text": [
      "Coverage Ratios\n         asOfDate  Interest_coverage\nsymbol                              \naapl   2017-09-30          28.588894\naapl   2018-09-30          23.500926\naapl   2019-09-30          19.382830\naapl   2020-06-30          23.406363\naapl   2020-09-30          24.352245\naapl   2020-12-31          28.421864\n"
     ]
    }
   ],
   "source": [
    "print('Coverage Ratios')\n",
    "df_joined['Interest_coverage'] = (df_joined['EBIT'] / df_joined['InterestExpense'])\n",
    "print(df_joined[['asOfDate','Interest_coverage']].tail(6))"
   ]
  },
  {
   "cell_type": "code",
   "execution_count": 54,
   "metadata": {},
   "outputs": [
    {
     "output_type": "stream",
     "name": "stdout",
     "text": [
      "Liquidity Ratios\n         asOfDate  Current_ratio  Cash_ratio\nsymbol                                      \naapl   2017-09-30       1.276063    0.201252\naapl   2018-09-30       1.123843    0.221733\naapl   2019-09-30       1.540126    0.462022\naapl   2020-09-30       1.363604    0.360710\n"
     ]
    }
   ],
   "source": [
    "print('Liquidity Ratios')\n",
    "df_joined['Current_ratio'] = df_joined['CurrentAssets'] / df_joined['CurrentLiabilities']\n",
    "df_joined['Cash_ratio'] = df_joined['CashAndCashEquivalents'] / df_joined['CurrentLiabilities']\n",
    "print(df_joined[['asOfDate','Current_ratio','Cash_ratio']].head(4))"
   ]
  },
  {
   "cell_type": "code",
   "execution_count": null,
   "metadata": {},
   "outputs": [],
   "source": []
  }
 ]
}